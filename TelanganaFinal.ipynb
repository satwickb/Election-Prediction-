{
 "cells": [
  {
   "cell_type": "markdown",
   "metadata": {},
   "source": [
    "# Twitter Sentimental Analysis on Indian Elections 2018"
   ]
  },
  {
   "cell_type": "markdown",
   "metadata": {},
   "source": [
    "### Team: Bodduna Satwick - [11810077] ,V Venkata Sai KushwanthReddy - [11810002] \n"
   ]
  },
  {
   "cell_type": "code",
   "execution_count": 1,
   "metadata": {},
   "outputs": [],
   "source": [
    "#Loading requried Libries\n",
    "import numpy as np\n",
    "import pandas as pd\n",
    "import matplotlib.pyplot as plt\n",
    "from textblob import TextBlob\n",
    "from nltk.corpus import stopwords \n",
    "import re\n",
    "\n",
    "\n",
    "%matplotlib inline  "
   ]
  },
  {
   "cell_type": "markdown",
   "metadata": {},
   "source": [
    "##### Loading Scrapped Data from twitter"
   ]
  },
  {
   "cell_type": "code",
   "execution_count": 2,
   "metadata": {},
   "outputs": [],
   "source": [
    "Election_data = pd.read_csv('TelanganaTweets.csv');   #Loading the Scraped Data from twitter using pandas "
   ]
  },
  {
   "cell_type": "code",
   "execution_count": 3,
   "metadata": {
    "scrolled": true
   },
   "outputs": [
    {
     "name": "stdout",
     "output_type": "stream",
     "text": [
      "Total Tweets avaliable : 7456 \n",
      "<class 'pandas.core.frame.DataFrame'>\n",
      "RangeIndex: 7456 entries, 0 to 7455\n",
      "Data columns (total 9 columns):\n",
      "Tweet Text         7456 non-null object\n",
      "created_at         7456 non-null object\n",
      "Location           7456 non-null object\n",
      "verified           7456 non-null bool\n",
      "description        7456 non-null object\n",
      "followers_count    7456 non-null int64\n",
      "Tweet Date         7456 non-null object\n",
      "id                 7456 non-null int64\n",
      "statuses_count     7456 non-null int64\n",
      "dtypes: bool(1), int64(3), object(5)\n",
      "memory usage: 473.4+ KB\n"
     ]
    }
   ],
   "source": [
    "print(\"Total Tweets avaliable : %d \"% (len(Election_data)))   #Total Number of Tweets Available \n",
    "Election_data.info()  #Checkcing info of the Scrapped data"
   ]
  },
  {
   "cell_type": "markdown",
   "metadata": {},
   "source": [
    "##### Processing Data"
   ]
  },
  {
   "cell_type": "code",
   "execution_count": 4,
   "metadata": {},
   "outputs": [
    {
     "data": {
      "text/plain": [
       "[\"#TRS is going to form Govt. in #Telangana on its own:  all  speculations are baseless. We should wait for the result. I dont want to comment on #Congress welcoming #AIMIM to #Prajakutami: #asaduddinowaisi Owaisi#TelanganaElections2018 @MumbaiMirror @BangaloreMirror'\",\n",
       " \"@asadowaisi Though I support #Prajakutami I want to see you as A central Cabinet minister for welfare of your community.Because for the representation of your community you look  significant.You are something more,you high potential why you want to limit to state politics?'\",\n",
       " \"#Telangana should demand reelection, bc, 2-3% vote swings can make or break elections, and we are talking about 8% votes here.What a cheat you are Election Commission. #Prajakutami is coming. https://t.co/A57E0yWBxv'\",\n",
       " \"@TelakapalliRavi The voting pattern in especially in rural #Telangana indicates either #TRS or #Prajakutami will get clear mandate. In majority of constituencies in the state recorded more than 80 percent turnout. It is a clear sign of electorate giving one party absolute majority.'\"]"
      ]
     },
     "execution_count": 4,
     "metadata": {},
     "output_type": "execute_result"
    }
   ],
   "source": [
    "pattern= r\"(b')|\\\\x([0-9a-fA-F]+)|\\\\n\"   #assinging customized regex pattern which for processing the tweets\n",
    "\n",
    "processed_data =[];                            \n",
    "for test in range(len(Election_data.iloc[:,0])):  #looping the first column of the df which is Tweet \n",
    "   processed_data.append(re.sub(pattern,\"\",Election_data.iloc[test,0]));   #Using the re.sub we are matching the pattern and replacing it with blank\n",
    "preprocess_data = processed_data                       #Saving the data into a temp\n",
    "preprocess_data[1:5]  #Checking the output"
   ]
  },
  {
   "cell_type": "code",
   "execution_count": 5,
   "metadata": {},
   "outputs": [
    {
     "data": {
      "text/plain": [
       "['#trs is going to form govt in #telangana on its own  all  speculations are baseless we should wait for the result i dont want to comment on #congress welcoming #aimim to #prajakutami #asaduddinowaisi owaisi#telanganaelections2018 @mumbaimirror @bangaloremirror',\n",
       " '@asadowaisi though i support #prajakutami i want to see you as a central cabinet minister for welfare of your communitybecause for the representation of your community you look  significantyou are something moreyou high potential why you want to limit to state politics',\n",
       " '#telangana should demand reelection bc 23 vote swings can make or break elections and we are talking about 8 votes herewhat a cheat you are election commission #prajakutami is coming httpstcoa57e0ywbxv',\n",
       " '@telakapalliravi the voting pattern in especially in rural #telangana indicates either #trs or #prajakutami will get clear mandate in majority of constituencies in the state recorded more than 80 percent turnout it is a clear sign of electorate giving one party absolute majority']"
      ]
     },
     "execution_count": 5,
     "metadata": {},
     "output_type": "execute_result"
    }
   ],
   "source": [
    "    for tweets in range(len(Election_data.iloc[:,0])):   #Cleaning the tweets further removing all the symbols except numbers,aplhabates and #,@ we will be using #,@ for few analysis\n",
    "        processed_data[tweets] = re.sub('[^ a-zA-Z|#|@|0-9]','',processed_data[tweets])\n",
    "        processed_data[tweets] = processed_data[tweets].lower()  #making all the tweets lowercase \n",
    "    preprocess_data[1:5] #Checking the output"
   ]
  },
  {
   "cell_type": "code",
   "execution_count": 6,
   "metadata": {},
   "outputs": [
    {
     "data": {
      "text/html": [
       "<div>\n",
       "<style scoped>\n",
       "    .dataframe tbody tr th:only-of-type {\n",
       "        vertical-align: middle;\n",
       "    }\n",
       "\n",
       "    .dataframe tbody tr th {\n",
       "        vertical-align: top;\n",
       "    }\n",
       "\n",
       "    .dataframe thead th {\n",
       "        text-align: right;\n",
       "    }\n",
       "</style>\n",
       "<table border=\"1\" class=\"dataframe\">\n",
       "  <thead>\n",
       "    <tr style=\"text-align: right;\">\n",
       "      <th></th>\n",
       "      <th>Tweet Text</th>\n",
       "      <th>created_at</th>\n",
       "      <th>Location</th>\n",
       "      <th>verified</th>\n",
       "      <th>description</th>\n",
       "      <th>followers_count</th>\n",
       "      <th>Tweet Date</th>\n",
       "      <th>id</th>\n",
       "      <th>statuses_count</th>\n",
       "      <th>processed_text</th>\n",
       "    </tr>\n",
       "  </thead>\n",
       "  <tbody>\n",
       "    <tr>\n",
       "      <th>0</th>\n",
       "      <td>b'Who will win Telangana Assembly Elections 20...</td>\n",
       "      <td>12/3/2018 14:35</td>\n",
       "      <td>b'Hyderabad, India'</td>\n",
       "      <td>False</td>\n",
       "      <td>b'Indian Muslim. Politics. History. Chai. Qaww...</td>\n",
       "      <td>2</td>\n",
       "      <td>Sun Dec 09 16:35:04 +0000 2018</td>\n",
       "      <td>1069600000000000000</td>\n",
       "      <td>76</td>\n",
       "      <td>who will win telangana assembly elections 2018...</td>\n",
       "    </tr>\n",
       "    <tr>\n",
       "      <th>1</th>\n",
       "      <td>b'#TRS is going to form Govt. in #Telangana on...</td>\n",
       "      <td>11/26/2016 9:08</td>\n",
       "      <td>b'Hyderabad, India'</td>\n",
       "      <td>False</td>\n",
       "      <td>b'Assistant Editor Mumbai Mirror, covering And...</td>\n",
       "      <td>349</td>\n",
       "      <td>Sun Dec 09 14:36:30 +0000 2018</td>\n",
       "      <td>802439000000000000</td>\n",
       "      <td>3285</td>\n",
       "      <td>#trs is going to form govt in #telangana on it...</td>\n",
       "    </tr>\n",
       "    <tr>\n",
       "      <th>2</th>\n",
       "      <td>b'@asadowaisi \\nThough I support #Prajakutami ...</td>\n",
       "      <td>4/25/2018 4:29</td>\n",
       "      <td>b''</td>\n",
       "      <td>False</td>\n",
       "      <td>b'Love to my #motherland #politics\\n#mylovelyp...</td>\n",
       "      <td>357</td>\n",
       "      <td>Sun Dec 09 13:32:04 +0000 2018</td>\n",
       "      <td>988998000000000000</td>\n",
       "      <td>14369</td>\n",
       "      <td>@asadowaisi though i support #prajakutami i wa...</td>\n",
       "    </tr>\n",
       "    <tr>\n",
       "      <th>3</th>\n",
       "      <td>b'#Telangana should demand reelection, bc, 2-3...</td>\n",
       "      <td>4/26/2009 11:45</td>\n",
       "      <td>b'Mumbai, India'</td>\n",
       "      <td>False</td>\n",
       "      <td>b'Bahujan Entrepreneur/Designer, #Education/#P...</td>\n",
       "      <td>192</td>\n",
       "      <td>Sun Dec 09 13:12:40 +0000 2018</td>\n",
       "      <td>35449908</td>\n",
       "      <td>7581</td>\n",
       "      <td>#telangana should demand reelection bc 23 vote...</td>\n",
       "    </tr>\n",
       "    <tr>\n",
       "      <th>4</th>\n",
       "      <td>b'@TelakapalliRavi The voting pattern in espec...</td>\n",
       "      <td>11/10/2018 4:08</td>\n",
       "      <td>b'Visakhapatnam, India'</td>\n",
       "      <td>False</td>\n",
       "      <td>b'A vivid follower of politics'</td>\n",
       "      <td>10</td>\n",
       "      <td>Sun Dec 09 11:33:06 +0000 2018</td>\n",
       "      <td>1061110000000000000</td>\n",
       "      <td>116</td>\n",
       "      <td>@telakapalliravi the voting pattern in especia...</td>\n",
       "    </tr>\n",
       "  </tbody>\n",
       "</table>\n",
       "</div>"
      ],
      "text/plain": [
       "                                          Tweet Text       created_at  \\\n",
       "0  b'Who will win Telangana Assembly Elections 20...  12/3/2018 14:35   \n",
       "1  b'#TRS is going to form Govt. in #Telangana on...  11/26/2016 9:08   \n",
       "2  b'@asadowaisi \\nThough I support #Prajakutami ...   4/25/2018 4:29   \n",
       "3  b'#Telangana should demand reelection, bc, 2-3...  4/26/2009 11:45   \n",
       "4  b'@TelakapalliRavi The voting pattern in espec...  11/10/2018 4:08   \n",
       "\n",
       "                  Location  verified  \\\n",
       "0      b'Hyderabad, India'     False   \n",
       "1      b'Hyderabad, India'     False   \n",
       "2                      b''     False   \n",
       "3         b'Mumbai, India'     False   \n",
       "4  b'Visakhapatnam, India'     False   \n",
       "\n",
       "                                         description  followers_count  \\\n",
       "0  b'Indian Muslim. Politics. History. Chai. Qaww...                2   \n",
       "1  b'Assistant Editor Mumbai Mirror, covering And...              349   \n",
       "2  b'Love to my #motherland #politics\\n#mylovelyp...              357   \n",
       "3  b'Bahujan Entrepreneur/Designer, #Education/#P...              192   \n",
       "4                    b'A vivid follower of politics'               10   \n",
       "\n",
       "                       Tweet Date                   id  statuses_count  \\\n",
       "0  Sun Dec 09 16:35:04 +0000 2018  1069600000000000000              76   \n",
       "1  Sun Dec 09 14:36:30 +0000 2018   802439000000000000            3285   \n",
       "2  Sun Dec 09 13:32:04 +0000 2018   988998000000000000           14369   \n",
       "3  Sun Dec 09 13:12:40 +0000 2018             35449908            7581   \n",
       "4  Sun Dec 09 11:33:06 +0000 2018  1061110000000000000             116   \n",
       "\n",
       "                                      processed_text  \n",
       "0  who will win telangana assembly elections 2018...  \n",
       "1  #trs is going to form govt in #telangana on it...  \n",
       "2  @asadowaisi though i support #prajakutami i wa...  \n",
       "3  #telangana should demand reelection bc 23 vote...  \n",
       "4  @telakapalliravi the voting pattern in especia...  "
      ]
     },
     "execution_count": 6,
     "metadata": {},
     "output_type": "execute_result"
    }
   ],
   "source": [
    "Election_data['processed_text']=processed_data #Adding the temp data which processed and cleaned to the main dataframe\n",
    "Election_data.head() #Checking the data"
   ]
  },
  {
   "cell_type": "markdown",
   "metadata": {},
   "source": [
    "##### Analysis on the tweets"
   ]
  },
  {
   "cell_type": "code",
   "execution_count": 7,
   "metadata": {},
   "outputs": [],
   "source": [
    "#Assinging the tweets for a party by using the hashtags\n",
    "Election_data['Split_Data'] = '';\n",
    "for counting in range(len(preprocess_data)):    #Using the Preprocess data for spliting\n",
    "    preprocess_data[counting] = str.split(preprocess_data[counting]); \n",
    "#Spliting the tweets into words for matching the dictonary items and for assiging party\n",
    "Election_data['Split_Data']= preprocess_data;    #adding this words of the tweet to the dataframe\n",
    " \n",
    "Election_data['Party']='';    #Creating a new column to store the party id \n",
    "for tweet in range(len(Election_data['Split_Data'])): #using the tweet words which we have processed earlier \n",
    "    TRS_Dict = ['@trspartyonline','@ktrtrs','#trs','#ktr','rao','#trs','#kcr','@asadowaisi','#telanganawithkcr','#aimim','#harishrao','@telanganacmo','#voteforcar','#phirekbaarkcr','@raokavitha','#kcrfailedtelangana','#votefortrs','#trsparty','#askktr','b\"@ktrtrs','#trs,','#trs105#phirekbaarkcr','#prajaashirvadasabha','#phirekbaarkcr','#voteforpadmarao'];    \n",
    "    bjp_Dict = ['@bjp4india','@bjp4telangana','modi','@bjp4india','#govotebjp','@narendramodi']                 \n",
    "    Congress_Dict = ['tdp','congress','#mahakutami','#congress','@incindia','@jaitdp','#prajakutami','#mahakutami','#chandrababunaidu','@rahulgandhi','#revanthreddy','@uttamtpcc','#byebyetrs','alliance','#congressiswinning','#cpi','#cbnints','#cbnintelangana','#rahulgandhi','kutami','#prajakutamiwinning','#peoplesfront','#tdpcongress']\n",
    "    #creating a list of hashtags or words which belongs to a each particular party which we are going to check in each tweet and assign to a party\n",
    "    TRS_count = 0;\n",
    "    bjp_count =0;\n",
    "    Congress_count = 0;\n",
    "    other_count =0;\n",
    "    #intializing the variable with 0\n",
    "    for words in Election_data.iloc[tweet,10]: #Creating a for loop getting the count of each words and party weightage\n",
    "        if words in TRS_Dict:                 #If a tweet find the word in its party dict it will assign 1 and if it find again it will increment the value \n",
    "            TRS_count += 1;\n",
    "        elif words in bjp_Dict:\n",
    "            bjp_count +=1;\n",
    "        elif words in Congress_Dict:\n",
    "            Congress_count +=1;\n",
    "        else:\n",
    "            other_count =1;                    #If it dont find any of the words belongs to the any party then it will assign the value 1 to others\n",
    "    if TRS_count > bjp_count and TRS_count > Congress_count: #here we will check the weightage of each party , this basically assign the party tag to the tweet which has the high weight\n",
    "        Election_data.iloc[tweet,11] = 'TRS';\n",
    "    elif bjp_count >TRS_count and bjp_count > Congress_count:\n",
    "        Election_data.iloc[tweet,11] = 'BJP'\n",
    "    elif Congress_count >TRS_count and Congress_count>bjp_count:\n",
    "        Election_data.iloc[tweet,11] = 'Congress'\n",
    "    else:\n",
    "        Election_data.iloc[tweet,11] = 'Neutral' #if all the party weightage is zero then it will tag netural"
   ]
  },
  {
   "cell_type": "code",
   "execution_count": 8,
   "metadata": {},
   "outputs": [
    {
     "data": {
      "text/html": [
       "<div>\n",
       "<style scoped>\n",
       "    .dataframe tbody tr th:only-of-type {\n",
       "        vertical-align: middle;\n",
       "    }\n",
       "\n",
       "    .dataframe tbody tr th {\n",
       "        vertical-align: top;\n",
       "    }\n",
       "\n",
       "    .dataframe thead th {\n",
       "        text-align: right;\n",
       "    }\n",
       "</style>\n",
       "<table border=\"1\" class=\"dataframe\">\n",
       "  <thead>\n",
       "    <tr style=\"text-align: right;\">\n",
       "      <th></th>\n",
       "      <th>Tweet Text</th>\n",
       "      <th>created_at</th>\n",
       "      <th>Location</th>\n",
       "      <th>verified</th>\n",
       "      <th>description</th>\n",
       "      <th>followers_count</th>\n",
       "      <th>Tweet Date</th>\n",
       "      <th>id</th>\n",
       "      <th>statuses_count</th>\n",
       "      <th>processed_text</th>\n",
       "      <th>Split_Data</th>\n",
       "      <th>Party</th>\n",
       "    </tr>\n",
       "  </thead>\n",
       "  <tbody>\n",
       "    <tr>\n",
       "      <th>0</th>\n",
       "      <td>b'Who will win Telangana Assembly Elections 20...</td>\n",
       "      <td>12/3/2018 14:35</td>\n",
       "      <td>b'Hyderabad, India'</td>\n",
       "      <td>False</td>\n",
       "      <td>b'Indian Muslim. Politics. History. Chai. Qaww...</td>\n",
       "      <td>2</td>\n",
       "      <td>Sun Dec 09 16:35:04 +0000 2018</td>\n",
       "      <td>1069600000000000000</td>\n",
       "      <td>76</td>\n",
       "      <td>who will win telangana assembly elections 2018...</td>\n",
       "      <td>[who, will, win, telangana, assembly, election...</td>\n",
       "      <td>Neutral</td>\n",
       "    </tr>\n",
       "    <tr>\n",
       "      <th>1</th>\n",
       "      <td>b'#TRS is going to form Govt. in #Telangana on...</td>\n",
       "      <td>11/26/2016 9:08</td>\n",
       "      <td>b'Hyderabad, India'</td>\n",
       "      <td>False</td>\n",
       "      <td>b'Assistant Editor Mumbai Mirror, covering And...</td>\n",
       "      <td>349</td>\n",
       "      <td>Sun Dec 09 14:36:30 +0000 2018</td>\n",
       "      <td>802439000000000000</td>\n",
       "      <td>3285</td>\n",
       "      <td>#trs is going to form govt in #telangana on it...</td>\n",
       "      <td>[#trs, is, going, to, form, govt, in, #telanga...</td>\n",
       "      <td>Neutral</td>\n",
       "    </tr>\n",
       "    <tr>\n",
       "      <th>2</th>\n",
       "      <td>b'@asadowaisi \\nThough I support #Prajakutami ...</td>\n",
       "      <td>4/25/2018 4:29</td>\n",
       "      <td>b''</td>\n",
       "      <td>False</td>\n",
       "      <td>b'Love to my #motherland #politics\\n#mylovelyp...</td>\n",
       "      <td>357</td>\n",
       "      <td>Sun Dec 09 13:32:04 +0000 2018</td>\n",
       "      <td>988998000000000000</td>\n",
       "      <td>14369</td>\n",
       "      <td>@asadowaisi though i support #prajakutami i wa...</td>\n",
       "      <td>[@asadowaisi, though, i, support, #prajakutami...</td>\n",
       "      <td>Neutral</td>\n",
       "    </tr>\n",
       "    <tr>\n",
       "      <th>3</th>\n",
       "      <td>b'#Telangana should demand reelection, bc, 2-3...</td>\n",
       "      <td>4/26/2009 11:45</td>\n",
       "      <td>b'Mumbai, India'</td>\n",
       "      <td>False</td>\n",
       "      <td>b'Bahujan Entrepreneur/Designer, #Education/#P...</td>\n",
       "      <td>192</td>\n",
       "      <td>Sun Dec 09 13:12:40 +0000 2018</td>\n",
       "      <td>35449908</td>\n",
       "      <td>7581</td>\n",
       "      <td>#telangana should demand reelection bc 23 vote...</td>\n",
       "      <td>[#telangana, should, demand, reelection, bc, 2...</td>\n",
       "      <td>Congress</td>\n",
       "    </tr>\n",
       "    <tr>\n",
       "      <th>4</th>\n",
       "      <td>b'@TelakapalliRavi The voting pattern in espec...</td>\n",
       "      <td>11/10/2018 4:08</td>\n",
       "      <td>b'Visakhapatnam, India'</td>\n",
       "      <td>False</td>\n",
       "      <td>b'A vivid follower of politics'</td>\n",
       "      <td>10</td>\n",
       "      <td>Sun Dec 09 11:33:06 +0000 2018</td>\n",
       "      <td>1061110000000000000</td>\n",
       "      <td>116</td>\n",
       "      <td>@telakapalliravi the voting pattern in especia...</td>\n",
       "      <td>[@telakapalliravi, the, voting, pattern, in, e...</td>\n",
       "      <td>Neutral</td>\n",
       "    </tr>\n",
       "  </tbody>\n",
       "</table>\n",
       "</div>"
      ],
      "text/plain": [
       "                                          Tweet Text       created_at  \\\n",
       "0  b'Who will win Telangana Assembly Elections 20...  12/3/2018 14:35   \n",
       "1  b'#TRS is going to form Govt. in #Telangana on...  11/26/2016 9:08   \n",
       "2  b'@asadowaisi \\nThough I support #Prajakutami ...   4/25/2018 4:29   \n",
       "3  b'#Telangana should demand reelection, bc, 2-3...  4/26/2009 11:45   \n",
       "4  b'@TelakapalliRavi The voting pattern in espec...  11/10/2018 4:08   \n",
       "\n",
       "                  Location  verified  \\\n",
       "0      b'Hyderabad, India'     False   \n",
       "1      b'Hyderabad, India'     False   \n",
       "2                      b''     False   \n",
       "3         b'Mumbai, India'     False   \n",
       "4  b'Visakhapatnam, India'     False   \n",
       "\n",
       "                                         description  followers_count  \\\n",
       "0  b'Indian Muslim. Politics. History. Chai. Qaww...                2   \n",
       "1  b'Assistant Editor Mumbai Mirror, covering And...              349   \n",
       "2  b'Love to my #motherland #politics\\n#mylovelyp...              357   \n",
       "3  b'Bahujan Entrepreneur/Designer, #Education/#P...              192   \n",
       "4                    b'A vivid follower of politics'               10   \n",
       "\n",
       "                       Tweet Date                   id  statuses_count  \\\n",
       "0  Sun Dec 09 16:35:04 +0000 2018  1069600000000000000              76   \n",
       "1  Sun Dec 09 14:36:30 +0000 2018   802439000000000000            3285   \n",
       "2  Sun Dec 09 13:32:04 +0000 2018   988998000000000000           14369   \n",
       "3  Sun Dec 09 13:12:40 +0000 2018             35449908            7581   \n",
       "4  Sun Dec 09 11:33:06 +0000 2018  1061110000000000000             116   \n",
       "\n",
       "                                      processed_text  \\\n",
       "0  who will win telangana assembly elections 2018...   \n",
       "1  #trs is going to form govt in #telangana on it...   \n",
       "2  @asadowaisi though i support #prajakutami i wa...   \n",
       "3  #telangana should demand reelection bc 23 vote...   \n",
       "4  @telakapalliravi the voting pattern in especia...   \n",
       "\n",
       "                                          Split_Data     Party  \n",
       "0  [who, will, win, telangana, assembly, election...   Neutral  \n",
       "1  [#trs, is, going, to, form, govt, in, #telanga...   Neutral  \n",
       "2  [@asadowaisi, though, i, support, #prajakutami...   Neutral  \n",
       "3  [#telangana, should, demand, reelection, bc, 2...  Congress  \n",
       "4  [@telakapalliravi, the, voting, pattern, in, e...   Neutral  "
      ]
     },
     "execution_count": 8,
     "metadata": {},
     "output_type": "execute_result"
    }
   ],
   "source": [
    "Election_data.head()  #Checking the data after tagging the party to every tweet"
   ]
  },
  {
   "cell_type": "markdown",
   "metadata": {},
   "source": [
    "##### Sentimental Analysis on tweets"
   ]
  },
  {
   "cell_type": "code",
   "execution_count": 13,
   "metadata": {},
   "outputs": [
    {
     "data": {
      "text/plain": [
       "<matplotlib.axes._subplots.AxesSubplot at 0x1e23d962f28>"
      ]
     },
     "execution_count": 13,
     "metadata": {},
     "output_type": "execute_result"
    },
    {
     "data": {
      "image/png": "[encoded data removed]",
      "text/plain": [
       "<Figure size 432x288 with 1 Axes>"
      ]
     },
     "metadata": {
      "needs_background": "light"
     },
     "output_type": "display_data"
    }
   ],
   "source": [
    "Election_data[Election_data['Party']!='Neutral'].Party.value_counts().plot(kind='bar') #Plotting the basic graph for review"
   ]
  },
  {
   "cell_type": "code",
   "execution_count": 9,
   "metadata": {},
   "outputs": [],
   "source": [
    "#Creating the function for checking the sentiment of the tweet \n",
    "def sentimentscore(tweet):              \n",
    "    analysis = TextBlob(tweet)              #passing the tweet into the textblob for analysing the polarity\n",
    "    if analysis.sentiment.polarity > 0:     #Here we are assing one if the polarity is greater than 0 as positive tweet\n",
    "        return 1\n",
    "    elif analysis.sentiment.polarity == 0:  #Here we are assing zero if the polarity is is equals to0 as netural tweet \n",
    "        return 0\n",
    "    else:\n",
    "        return -1                           #Here we are assing -1 if the polarity is lessthan than 0 as negative tweet"
   ]
  },
  {
   "cell_type": "code",
   "execution_count": 10,
   "metadata": {},
   "outputs": [],
   "source": [
    "Election_data['sentiment'] = Election_data['processed_text'].apply(sentimentscore)\n",
    "#Applying the above defined function to the Processed text"
   ]
  },
  {
   "cell_type": "code",
   "execution_count": 11,
   "metadata": {},
   "outputs": [
    {
     "name": "stdout",
     "output_type": "stream",
     "text": [
      "Total Positve Tweets : 2830 \n",
      "Total Neutral Tweets : 3725 \n",
      "Total Negative Tweets : 901 \n"
     ]
    }
   ],
   "source": [
    "#Checking the number of positve,Negative and neutral tweets \n",
    "print(\"Total Positve Tweets : %d \"% (len(Election_data[Election_data['sentiment']>0])))\n",
    "print(\"Total Neutral Tweets : %d \"% (len(Election_data[Election_data['sentiment']==0])))\n",
    "print(\"Total Negative Tweets : %d \"% (len(Election_data[Election_data['sentiment']<0])))"
   ]
  },
  {
   "cell_type": "code",
   "execution_count": 12,
   "metadata": {},
   "outputs": [
    {
     "data": {
      "text/html": [
       "<div>\n",
       "<style scoped>\n",
       "    .dataframe tbody tr th:only-of-type {\n",
       "        vertical-align: middle;\n",
       "    }\n",
       "\n",
       "    .dataframe tbody tr th {\n",
       "        vertical-align: top;\n",
       "    }\n",
       "\n",
       "    .dataframe thead th {\n",
       "        text-align: right;\n",
       "    }\n",
       "</style>\n",
       "<table border=\"1\" class=\"dataframe\">\n",
       "  <thead>\n",
       "    <tr style=\"text-align: right;\">\n",
       "      <th></th>\n",
       "      <th>Tweet Text</th>\n",
       "      <th>created_at</th>\n",
       "      <th>Location</th>\n",
       "      <th>verified</th>\n",
       "      <th>description</th>\n",
       "      <th>followers_count</th>\n",
       "      <th>Tweet Date</th>\n",
       "      <th>id</th>\n",
       "      <th>statuses_count</th>\n",
       "      <th>processed_text</th>\n",
       "      <th>Split_Data</th>\n",
       "      <th>Party</th>\n",
       "      <th>sentiment</th>\n",
       "      <th>State</th>\n",
       "    </tr>\n",
       "  </thead>\n",
       "  <tbody>\n",
       "    <tr>\n",
       "      <th>0</th>\n",
       "      <td>b'Who will win Telangana Assembly Elections 20...</td>\n",
       "      <td>12/3/2018 14:35</td>\n",
       "      <td>b'Hyderabad, India'</td>\n",
       "      <td>False</td>\n",
       "      <td>b'Indian Muslim. Politics. History. Chai. Qaww...</td>\n",
       "      <td>2</td>\n",
       "      <td>Sun Dec 09 16:35:04 +0000 2018</td>\n",
       "      <td>1069600000000000000</td>\n",
       "      <td>76</td>\n",
       "      <td>who will win telangana assembly elections 2018...</td>\n",
       "      <td>[who, will, win, telangana, assembly, election...</td>\n",
       "      <td>Neutral</td>\n",
       "      <td>1</td>\n",
       "      <td>Telangana</td>\n",
       "    </tr>\n",
       "    <tr>\n",
       "      <th>1</th>\n",
       "      <td>b'#TRS is going to form Govt. in #Telangana on...</td>\n",
       "      <td>11/26/2016 9:08</td>\n",
       "      <td>b'Hyderabad, India'</td>\n",
       "      <td>False</td>\n",
       "      <td>b'Assistant Editor Mumbai Mirror, covering And...</td>\n",
       "      <td>349</td>\n",
       "      <td>Sun Dec 09 14:36:30 +0000 2018</td>\n",
       "      <td>802439000000000000</td>\n",
       "      <td>3285</td>\n",
       "      <td>#trs is going to form govt in #telangana on it...</td>\n",
       "      <td>[#trs, is, going, to, form, govt, in, #telanga...</td>\n",
       "      <td>Neutral</td>\n",
       "      <td>1</td>\n",
       "      <td>Telangana</td>\n",
       "    </tr>\n",
       "    <tr>\n",
       "      <th>2</th>\n",
       "      <td>b'@asadowaisi \\nThough I support #Prajakutami ...</td>\n",
       "      <td>4/25/2018 4:29</td>\n",
       "      <td>b''</td>\n",
       "      <td>False</td>\n",
       "      <td>b'Love to my #motherland #politics\\n#mylovelyp...</td>\n",
       "      <td>357</td>\n",
       "      <td>Sun Dec 09 13:32:04 +0000 2018</td>\n",
       "      <td>988998000000000000</td>\n",
       "      <td>14369</td>\n",
       "      <td>@asadowaisi though i support #prajakutami i wa...</td>\n",
       "      <td>[@asadowaisi, though, i, support, #prajakutami...</td>\n",
       "      <td>Neutral</td>\n",
       "      <td>1</td>\n",
       "      <td>Telangana</td>\n",
       "    </tr>\n",
       "    <tr>\n",
       "      <th>3</th>\n",
       "      <td>b'#Telangana should demand reelection, bc, 2-3...</td>\n",
       "      <td>4/26/2009 11:45</td>\n",
       "      <td>b'Mumbai, India'</td>\n",
       "      <td>False</td>\n",
       "      <td>b'Bahujan Entrepreneur/Designer, #Education/#P...</td>\n",
       "      <td>192</td>\n",
       "      <td>Sun Dec 09 13:12:40 +0000 2018</td>\n",
       "      <td>35449908</td>\n",
       "      <td>7581</td>\n",
       "      <td>#telangana should demand reelection bc 23 vote...</td>\n",
       "      <td>[#telangana, should, demand, reelection, bc, 2...</td>\n",
       "      <td>Congress</td>\n",
       "      <td>0</td>\n",
       "      <td>Telangana</td>\n",
       "    </tr>\n",
       "    <tr>\n",
       "      <th>4</th>\n",
       "      <td>b'@TelakapalliRavi The voting pattern in espec...</td>\n",
       "      <td>11/10/2018 4:08</td>\n",
       "      <td>b'Visakhapatnam, India'</td>\n",
       "      <td>False</td>\n",
       "      <td>b'A vivid follower of politics'</td>\n",
       "      <td>10</td>\n",
       "      <td>Sun Dec 09 11:33:06 +0000 2018</td>\n",
       "      <td>1061110000000000000</td>\n",
       "      <td>116</td>\n",
       "      <td>@telakapalliravi the voting pattern in especia...</td>\n",
       "      <td>[@telakapalliravi, the, voting, pattern, in, e...</td>\n",
       "      <td>Neutral</td>\n",
       "      <td>1</td>\n",
       "      <td>Telangana</td>\n",
       "    </tr>\n",
       "  </tbody>\n",
       "</table>\n",
       "</div>"
      ],
      "text/plain": [
       "                                          Tweet Text       created_at  \\\n",
       "0  b'Who will win Telangana Assembly Elections 20...  12/3/2018 14:35   \n",
       "1  b'#TRS is going to form Govt. in #Telangana on...  11/26/2016 9:08   \n",
       "2  b'@asadowaisi \\nThough I support #Prajakutami ...   4/25/2018 4:29   \n",
       "3  b'#Telangana should demand reelection, bc, 2-3...  4/26/2009 11:45   \n",
       "4  b'@TelakapalliRavi The voting pattern in espec...  11/10/2018 4:08   \n",
       "\n",
       "                  Location  verified  \\\n",
       "0      b'Hyderabad, India'     False   \n",
       "1      b'Hyderabad, India'     False   \n",
       "2                      b''     False   \n",
       "3         b'Mumbai, India'     False   \n",
       "4  b'Visakhapatnam, India'     False   \n",
       "\n",
       "                                         description  followers_count  \\\n",
       "0  b'Indian Muslim. Politics. History. Chai. Qaww...                2   \n",
       "1  b'Assistant Editor Mumbai Mirror, covering And...              349   \n",
       "2  b'Love to my #motherland #politics\\n#mylovelyp...              357   \n",
       "3  b'Bahujan Entrepreneur/Designer, #Education/#P...              192   \n",
       "4                    b'A vivid follower of politics'               10   \n",
       "\n",
       "                       Tweet Date                   id  statuses_count  \\\n",
       "0  Sun Dec 09 16:35:04 +0000 2018  1069600000000000000              76   \n",
       "1  Sun Dec 09 14:36:30 +0000 2018   802439000000000000            3285   \n",
       "2  Sun Dec 09 13:32:04 +0000 2018   988998000000000000           14369   \n",
       "3  Sun Dec 09 13:12:40 +0000 2018             35449908            7581   \n",
       "4  Sun Dec 09 11:33:06 +0000 2018  1061110000000000000             116   \n",
       "\n",
       "                                      processed_text  \\\n",
       "0  who will win telangana assembly elections 2018...   \n",
       "1  #trs is going to form govt in #telangana on it...   \n",
       "2  @asadowaisi though i support #prajakutami i wa...   \n",
       "3  #telangana should demand reelection bc 23 vote...   \n",
       "4  @telakapalliravi the voting pattern in especia...   \n",
       "\n",
       "                                          Split_Data     Party  sentiment  \\\n",
       "0  [who, will, win, telangana, assembly, election...   Neutral          1   \n",
       "1  [#trs, is, going, to, form, govt, in, #telanga...   Neutral          1   \n",
       "2  [@asadowaisi, though, i, support, #prajakutami...   Neutral          1   \n",
       "3  [#telangana, should, demand, reelection, bc, 2...  Congress          0   \n",
       "4  [@telakapalliravi, the, voting, pattern, in, e...   Neutral          1   \n",
       "\n",
       "       State  \n",
       "0  Telangana  \n",
       "1  Telangana  \n",
       "2  Telangana  \n",
       "3  Telangana  \n",
       "4  Telangana  "
      ]
     },
     "execution_count": 12,
     "metadata": {},
     "output_type": "execute_result"
    }
   ],
   "source": [
    "#Giving tag for the dataframe for further analysis on tableau\n",
    "Election_data['State']='Telangana' \n",
    "Election_data.head() #Checking the data"
   ]
  },
  {
   "cell_type": "markdown",
   "metadata": {},
   "source": [
    "##### Analysis on Hashtag's"
   ]
  },
  {
   "cell_type": "code",
   "execution_count": 14,
   "metadata": {},
   "outputs": [],
   "source": [
    "#word frequency of hashtags\n",
    "stop = stopwords.words('english')  #Loading the stopwords from library\n",
    "Election_data[\"Clean_tweet_stopwords\"] = Election_data[\"processed_text\"].apply(lambda x: ' '.join([word for word in x.split() if word not in (stop)]))\n",
    "#by using the stopwords library we are searching in the tweets and replacing it with blank"
   ]
  },
  {
   "cell_type": "code",
   "execution_count": 15,
   "metadata": {},
   "outputs": [
    {
     "data": {
      "text/html": [
       "<div>\n",
       "<style scoped>\n",
       "    .dataframe tbody tr th:only-of-type {\n",
       "        vertical-align: middle;\n",
       "    }\n",
       "\n",
       "    .dataframe tbody tr th {\n",
       "        vertical-align: top;\n",
       "    }\n",
       "\n",
       "    .dataframe thead th {\n",
       "        text-align: right;\n",
       "    }\n",
       "</style>\n",
       "<table border=\"1\" class=\"dataframe\">\n",
       "  <thead>\n",
       "    <tr style=\"text-align: right;\">\n",
       "      <th></th>\n",
       "      <th>HashWord</th>\n",
       "      <th>Frequency</th>\n",
       "      <th>State</th>\n",
       "    </tr>\n",
       "  </thead>\n",
       "  <tbody>\n",
       "    <tr>\n",
       "      <th>0</th>\n",
       "      <td>#telanganaelections</td>\n",
       "      <td>2521</td>\n",
       "      <td>Telangana</td>\n",
       "    </tr>\n",
       "    <tr>\n",
       "      <th>1</th>\n",
       "      <td>#trs</td>\n",
       "      <td>1922</td>\n",
       "      <td>Telangana</td>\n",
       "    </tr>\n",
       "    <tr>\n",
       "      <th>2</th>\n",
       "      <td>#telanganaelections2018</td>\n",
       "      <td>1716</td>\n",
       "      <td>Telangana</td>\n",
       "    </tr>\n",
       "    <tr>\n",
       "      <th>3</th>\n",
       "      <td>vote</td>\n",
       "      <td>1528</td>\n",
       "      <td>Telangana</td>\n",
       "    </tr>\n",
       "    <tr>\n",
       "      <th>4</th>\n",
       "      <td>#telanganawithkcr</td>\n",
       "      <td>1126</td>\n",
       "      <td>Telangana</td>\n",
       "    </tr>\n",
       "  </tbody>\n",
       "</table>\n",
       "</div>"
      ],
      "text/plain": [
       "                  HashWord  Frequency      State\n",
       "0      #telanganaelections       2521  Telangana\n",
       "1                     #trs       1922  Telangana\n",
       "2  #telanganaelections2018       1716  Telangana\n",
       "3                     vote       1528  Telangana\n",
       "4        #telanganawithkcr       1126  Telangana"
      ]
     },
     "execution_count": 15,
     "metadata": {},
     "output_type": "execute_result"
    }
   ],
   "source": [
    "FrequencyTags=pd.Series(np.concatenate([x.split() for x in Election_data.Clean_tweet_stopwords])).value_counts()\n",
    "#Calculating the frequency of each tag\n",
    "HashFreq = pd.DataFrame(FrequencyTags)  #converting the pandas series to dataframe\n",
    "HashFreq=HashFreq.reset_index()         #resting the index\n",
    "HashFreq.columns = ['HashWord', 'Frequency']   #adding the colum names to the new df\n",
    "HashFreq['State']='Telangana'                  #adding Tag for further analysis in Tableau\n",
    "HashFreq.head()                                #Checking the data"
   ]
  },
  {
   "cell_type": "markdown",
   "metadata": {},
   "source": [
    "##### Storing the Processed data into CSV"
   ]
  },
  {
   "cell_type": "code",
   "execution_count": 16,
   "metadata": {},
   "outputs": [],
   "source": [
    "Election_data.to_csv('TelanganaSentimentProcessed.csv')           #storing the processdata into the csv \n",
    "HashFreq.to_csv('TelanganaWords.csv')                             #Sotring the word frequency into csv"
   ]
  }
 ],
 "metadata": {
  "kernelspec": {
   "display_name": "Python 3",
   "language": "python",
   "name": "python3"
  },
  "language_info": {
   "codemirror_mode": {
    "name": "ipython",
    "version": 3
   },
   "file_extension": ".py",
   "mimetype": "text/x-python",
   "name": "python",
   "nbconvert_exporter": "python",
   "pygments_lexer": "ipython3",
   "version": "3.7.0"
  }
 },
 "nbformat": 4,
 "nbformat_minor": 2
}
